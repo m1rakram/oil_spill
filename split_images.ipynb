{
 "cells": [
  {
   "cell_type": "code",
   "execution_count": null,
   "metadata": {},
   "outputs": [],
   "source": [
    "from PIL import Image\n",
    "\n",
    "def divide_image(file_path, rows, cols):\n",
    "    # Open the image\n",
    "    image = Image.open(file_path)\n",
    "\n",
    "    # Get the width and height of the image\n",
    "    width, height = image.size\n",
    "\n",
    "    # Calculate the size of each small image\n",
    "    small_image_width = width // cols\n",
    "    small_image_height = height // rows\n",
    "\n",
    "    # Divide the image into smaller images\n",
    "    for i in range(rows):\n",
    "        for j in range(cols):\n",
    "            # Define the box for the current small image\n",
    "            box = (j * small_image_width, i * small_image_height,\n",
    "                   (j + 1) * small_image_width, (i + 1) * small_image_height)\n",
    "\n",
    "            # Crop the image using the box\n",
    "            small_image = image.crop(box)\n",
    "\n",
    "            # Save the small image\n",
    "            small_image.save(f\"small_image_{i}_{j}.tif\")\n",
    "\n",
    "# Example usage\n",
    "divide_image(\"large_image.tif\", rows=3, cols=3)"
   ]
  }
 ],
 "metadata": {
  "language_info": {
   "name": "python"
  },
  "orig_nbformat": 4
 },
 "nbformat": 4,
 "nbformat_minor": 2
}
